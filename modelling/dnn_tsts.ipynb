{
 "cells": [
  {
   "cell_type": "code",
   "execution_count": null,
   "metadata": {},
   "outputs": [],
   "source": [
    "import pandas as np\n",
    "import  vonenet"
   ]
  }
 ],
 "metadata": {
  "kernelspec": {
   "display_name": "Python 3.6.6 64-bit",
   "language": "python",
   "name": "python3"
  },
  "language_info": {
   "name": "python",
   "version": "3.6.6"
  },
  "orig_nbformat": 4,
  "vscode": {
   "interpreter": {
    "hash": "364bf80ec3357c517417e509b77beb380f93a8befd191d00c444bb4eef120f90"
   }
  }
 },
 "nbformat": 4,
 "nbformat_minor": 2
}
